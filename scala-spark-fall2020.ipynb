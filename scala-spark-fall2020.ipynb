{
 "cells": [
  {
   "cell_type": "code",
   "execution_count": null,
   "metadata": {},
   "outputs": [],
   "source": [
    "import scala.annotation.tailrec\n",
    "\n",
    "@tailrec\n",
    "final def gcd(a: Int, b: Int): Int =   \n",
    "  if (b == 0) a else gcd(b, a % b)\n",
    "\n",
    "gcd(4, 12)"
   ]
  },
  {
   "cell_type": "code",
   "execution_count": 2,
   "metadata": {},
   "outputs": [
    {
     "data": {
      "text/plain": [
       "factorial: (n: Int, s: Int)Int\n"
      ]
     },
     "metadata": {},
     "output_type": "display_data"
    }
   ],
   "source": [
    "@tailrec\n",
    "final def factorial(n: Int, s: Int = 1): Int =\n",
    "  if (n == 0) s else factorial(n - 1, s * n)"
   ]
  },
  {
   "cell_type": "code",
   "execution_count": 3,
   "metadata": {},
   "outputs": [
    {
     "data": {
      "text/plain": [
       "120"
      ]
     },
     "execution_count": 3,
     "metadata": {},
     "output_type": "execute_result"
    }
   ],
   "source": [
    "factorial(5)"
   ]
  },
  {
   "cell_type": "code",
   "execution_count": null,
   "metadata": {},
   "outputs": [],
   "source": []
  },
  {
   "cell_type": "code",
   "execution_count": null,
   "metadata": {},
   "outputs": [],
   "source": []
  },
  {
   "cell_type": "code",
   "execution_count": null,
   "metadata": {},
   "outputs": [],
   "source": []
  },
  {
   "cell_type": "code",
   "execution_count": 4,
   "metadata": {},
   "outputs": [
    {
     "data": {
      "text/plain": [
       "spark = org.apache.spark.sql.SparkSession@97868c3\n"
      ]
     },
     "metadata": {},
     "output_type": "display_data"
    },
    {
     "data": {
      "text/plain": [
       "org.apache.spark.sql.SparkSession@97868c3"
      ]
     },
     "execution_count": 4,
     "metadata": {},
     "output_type": "execute_result"
    }
   ],
   "source": [
    "import org.apache.spark.sql.functions._\n",
    "\n",
    "val spark = SparkSession.builder\n",
    ".appName(\"SparkSessionExample\")\n",
    ".getOrCreate"
   ]
  },
  {
   "cell_type": "markdown",
   "metadata": {},
   "source": [
    "# Схема данных\n",
    "\n",
    "| customer               |                                                                                                                                                       |\n",
    "|------------------------|-------------------------------------------------------------------------------------------------------------------------------------------------------|\n",
    "| customer_id            | Идентификатор клиента                                                                                                                                 |\n",
    "| product_X              | Статус продукта. OPN - открыт, но не утилизирован. UTL - утилизирован. CLS - закрыт                                                                   |\n",
    "| gender_cd              | Пол. M - мужской. F - женский                                                                                                                         |\n",
    "| age                    | Возраст в годах                                                                                                                                       |\n",
    "| marital_status_cd      | Семейный статус. См. словарь соответствия                                                                                                             |\n",
    "| children_cnt           | Количество детей в штуках                                                                                                                             |\n",
    "| first_session_dttm     | Дата и время первой сессии в приложении или личном кабинете на сайте                                                                                  |\n",
    "| job_position_cd        | Категория занимаемой должности. См. словарь соответствия                                                                                              |\n",
    "| job_title              | Занимаемая должность                                                                                                                                  |"
   ]
  },
  {
   "cell_type": "markdown",
   "metadata": {},
   "source": [
    "| stories_reaction_train |                                                                                                                                                       |\n",
    "|------------------------|-------------------------------------------------------------------------------------------------------------------------------------------------------|\n",
    "| customer_id            | Идентификатор клиента                                                                                                                                 |\n",
    "| story_id               | Идентификатор истории                                                                                                                                 |\n",
    "| event_dttm             | Дата действия                                                                                                                                         |\n",
    "| event                  | Тип действия. like - лайк или сохранение. view - глубокий просмотр (более 10 секунд). skip - пролистанная история (менее 5 секунд). dislike - дизлайк |"
   ]
  },
  {
   "cell_type": "markdown",
   "metadata": {},
   "source": [
    "# Читаем CSVшку"
   ]
  },
  {
   "cell_type": "code",
   "execution_count": 2,
   "metadata": {},
   "outputs": [
    {
     "data": {
      "text/plain": [
       "defined class SimpleCSVHeader\n",
       "csvCustomer = Downloads/data_like/customer_train.csv MapPartitionsRDD[1] at textFile at <console>:29\n",
       "dataCustomer = MapPartitionsRDD[2] at map at <console>:30\n",
       "headerCustomer = SimpleCSVHeader@58814f40\n",
       "customers = MapPartitionsRDD[3] at filter at <console>:32\n",
       "csvStories = Downloads/data_like/stories_reaction_train.csv MapPartitionsRDD[5] at textFile at <console>:34\n",
       "dataStories = MapPartitionsRDD[6] at map at <console>:35\n",
       "headerStories = SimpleCSVHeader@3f912475\n"
      ]
     },
     "metadata": {},
     "output_type": "display_data"
    },
    {
     "data": {
      "text/plain": [
       "stories: org.apache.spark.rdd.RDD[Array[String]...\n"
      ]
     },
     "metadata": {},
     "output_type": "display_data"
    },
    {
     "data": {
      "text/plain": [
       "SimpleCSVHeader@3f912475"
      ]
     },
     "execution_count": 2,
     "metadata": {},
     "output_type": "execute_result"
    }
   ],
   "source": [
    "import org.apache.spark.rdd._\n",
    "\n",
    "class SimpleCSVHeader(header:Array[String]) extends Serializable {\n",
    "  val index = header.zipWithIndex.toMap\n",
    "  def apply(array:Array[String], key:String) : String = {\n",
    "      val curIndex = index(key)\n",
    "      if (curIndex < array.size) {\n",
    "          return array(curIndex)\n",
    "      } else {\n",
    "          return \"\"\n",
    "      }\n",
    "  }\n",
    "}\n",
    "\n",
    "val csvCustomer = sc.textFile(\"Downloads/data_like/customer_train.csv\")  // original file\n",
    "val dataCustomer = csvCustomer.map(line => line.split(\",\").map(elem => elem.trim)) //lines in rows\n",
    "val headerCustomer = new SimpleCSVHeader(dataCustomer.first()) // we build our header with the first line\n",
    "val customers = dataCustomer.filter(line => headerCustomer(line,\"customer_id\") != \"customer_id\") // filter the header out\n",
    "\n",
    "val csvStories = sc.textFile(\"Downloads/data_like/stories_reaction_train.csv\")  // original file\n",
    "val dataStories = csvStories.map(line => line.split(\",\").map(elem => elem.trim)) //lines in rows\n",
    "val headerStories = new SimpleCSVHeader(dataStories.first()) // we build our header with the first line\n",
    "val stories = dataStories.filter(line => headerStories(line,\"customer_id\") != \"customer_id\") // filter the header out"
   ]
  },
  {
   "cell_type": "code",
   "execution_count": 3,
   "metadata": {},
   "outputs": [
    {
     "data": {
      "text/plain": [
       "Map(product_1 -> 2, first_session_dttm -> 12, customer_id -> 0, product_6 -> 7, job_title -> 14, product_4 -> 5, job_position_cd -> 13, age -> 9, product_5 -> 6, gender_cd -> 8, product_0 -> 1, product_3 -> 4, product_2 -> 3, children_cnt -> 11, marital_status_cd -> 10)"
      ]
     },
     "execution_count": 3,
     "metadata": {},
     "output_type": "execute_result"
    }
   ],
   "source": [
    "headerCustomer.index"
   ]
  },
  {
   "cell_type": "code",
   "execution_count": 4,
   "metadata": {},
   "outputs": [
    {
     "data": {
      "text/plain": [
       "Map(customer_id -> 0, story_id -> 1, event_dttm -> 2, event -> 3)"
      ]
     },
     "execution_count": 4,
     "metadata": {},
     "output_type": "execute_result"
    }
   ],
   "source": [
    "headerStories.index"
   ]
  },
  {
   "cell_type": "code",
   "execution_count": 5,
   "metadata": {},
   "outputs": [
    {
     "data": {
      "text/plain": [
       "Array(Array(894436, \"\", \"\", \"\", \"\", \"\", UTL, \"\", M, 30.0, MAR, 0.0, 2018-03-20 09:10:16, 1, Неруководящий сотрудник - обсл. Персонал))"
      ]
     },
     "execution_count": 5,
     "metadata": {},
     "output_type": "execute_result"
    }
   ],
   "source": [
    "customers.take(1)"
   ]
  },
  {
   "cell_type": "code",
   "execution_count": 6,
   "metadata": {},
   "outputs": [
    {
     "data": {
      "text/plain": [
       "Array(Array(15, 138, 2018-07-24 15:33:22, view))"
      ]
     },
     "execution_count": 6,
     "metadata": {},
     "output_type": "execute_result"
    }
   ],
   "source": [
    "stories.take(1)"
   ]
  },
  {
   "cell_type": "markdown",
   "metadata": {},
   "source": [
    "# Задачи\n",
    "1. Посчитать количество пользователей по каждому типу marital_status, с помощью reduceByKey\n",
    "2. Посчитать долю пользователей, у которых утилизирован продукт 2, с помощью aggregate\n",
    "3. Посчитать количество историй 2018-07-24, которые лайкнули преимущественно мужчины\n",
    "4. Посчитать количество и средний возраст пользователей, посмотревших историю 645 \n",
    "5. Посчитать количество утилизированных продуктов у каждого пользователя с помощью flatMap\n",
    "6. Посчитать количество утилизированных продуктов у каждого пользователя с помощью groupByKey"
   ]
  },
  {
   "cell_type": "code",
   "execution_count": 17,
   "metadata": {},
   "outputs": [
    {
     "data": {
      "text/plain": [
       "byStatus = ShuffledRDD[19] at reduceByKey at <console>:46\n"
      ]
     },
     "metadata": {},
     "output_type": "display_data"
    },
    {
     "data": {
      "text/plain": [
       "ShuffledRDD[19] at reduceByKey at <console>:46"
      ]
     },
     "execution_count": 17,
     "metadata": {},
     "output_type": "execute_result"
    }
   ],
   "source": [
    "// 1. Посчитать количество пользователей по каждому типу marital_status, с помощью reduceByKey\n",
    "\n",
    "val byStatus = customers\n",
    "    .map(s => (headerCustomer(s, \"marital_status_cd\"), 1))\n",
    "    .reduceByKey((a, b) => a + b)"
   ]
  },
  {
   "cell_type": "code",
   "execution_count": 18,
   "metadata": {},
   "outputs": [
    {
     "data": {
      "text/plain": [
       "Array((\"\",18793), (MAR,14199), (CIV,2240), (UNM,11906), (WID,297), (DLW,1), (DIV,2564))"
      ]
     },
     "execution_count": 18,
     "metadata": {},
     "output_type": "execute_result"
    }
   ],
   "source": [
    "byStatus.collect()"
   ]
  },
  {
   "cell_type": "code",
   "execution_count": 10,
   "metadata": {},
   "outputs": [
    {
     "data": {
      "text/plain": [
       "Array(Array(894436, \"\", \"\", \"\", \"\", \"\", UTL, \"\", M, 30.0, MAR, 0.0, 2018-03-20 09:10:16, 1, Неруководящий сотрудник - обсл. Персонал), Array(524526, \"\", UTL, \"\", \"\", \"\", UTL, \"\", F, 20.0, UNM, 0.0, 2017-03-29 20:38:45, 16), Array(498134, \"\", UTL, \"\", \"\", \"\", \"\", \"\", F, 25.0, UNM, 0.0, 2018-03-12 11:25:06, 22), Array(278941, \"\", \"\", UTL, CLS, \"\", UTL, UTL, M, 25.0, \"\", \"\", 2016-02-21 18:47:51, 16, Неруководящий сотрудник - специалист), Array(877312, \"\", UTL, \"\", \"\", \"\", \"\", \"\", F, 40.0, MAR, 0.0, 2018-03-07 11:17:02, 22), Array(821806, \"\", \"\", \"\", UTL, \"\", UTL, \"\", F, 25.0, \"\", 0.0, 2018-01-15 09:23:54, 22), Array(782728, \"\", UTL, \"\", \"\", \"\", \"\", \"\", M, 35.0, MAR, 0.0, 2017-12-26 09:02:58, 22), Array(540071, \"\", \"\", \"\", \"\", \"\", UTL, \"\", M, 30.0, \"\", 0.0, 201..."
      ]
     },
     "execution_count": 10,
     "metadata": {},
     "output_type": "execute_result"
    }
   ],
   "source": [
    "customers.collect()"
   ]
  },
  {
   "cell_type": "code",
   "execution_count": 14,
   "metadata": {},
   "outputs": [
    {
     "data": {
      "text/plain": [
       "counters = (1895,50000)\n"
      ]
     },
     "metadata": {},
     "output_type": "display_data"
    },
    {
     "data": {
      "text/plain": [
       "0.0379"
      ]
     },
     "execution_count": 14,
     "metadata": {},
     "output_type": "execute_result"
    }
   ],
   "source": [
    "// 2. Посчитать долю пользователей, у которых утилизирован продукт 2, с помощью aggregate\n",
    "\n",
    "// def aggregate[U](zeroValue: U)(seqOp: (U, T) ⇒ U, combOp: (U, U) ⇒ U)(implicit arg0: ClassTag[U]): U\n",
    "\n",
    "// Aggregate the elements of each partition, and then the results for all the partitions, \n",
    "// using given combine functions and a neutral \"zero value\". This function can return a \n",
    "// different result type, U, than the type of this RDD, T. Thus, we need one operation \n",
    "// for merging a T into an U and one operation for merging two U's, as in scala.TraversableOnce. \n",
    "// Both of these functions are allowed to modify and return their first argument instead of creating a new U to avoid memory allocation.\n",
    "\n",
    "\n",
    "val counters = customers\n",
    "    .map(s => if (headerCustomer(s, \"product_2\") == \"UTL\") 1 else 0)\n",
    "    .aggregate((0,0))(\n",
    "        (u, t) => (u._1 + t, u._2 + 1),\n",
    "        (u1, u2) => (u1._1 + u2._1, u1._2 + u2._2)\n",
    "    )\n",
    "\n",
    "counters._1.toDouble / counters._2"
   ]
  },
  {
   "cell_type": "code",
   "execution_count": 17,
   "metadata": {},
   "outputs": [
    {
     "data": {
      "text/plain": [
       "2018-07-24"
      ]
     },
     "execution_count": 17,
     "metadata": {},
     "output_type": "execute_result"
    }
   ],
   "source": [
    "\"2018-07-24 15:33:22\".slice(0,10)"
   ]
  },
  {
   "cell_type": "code",
   "execution_count": 18,
   "metadata": {},
   "outputs": [
    {
     "data": {
      "text/plain": [
       "473141"
      ]
     },
     "execution_count": 18,
     "metadata": {},
     "output_type": "execute_result"
    }
   ],
   "source": [
    "stories.count"
   ]
  },
  {
   "cell_type": "code",
   "execution_count": 31,
   "metadata": {},
   "outputs": [
    {
     "data": {
      "text/plain": [
       "Array((894436,M), (524526,F), (498134,F), (278941,M), (877312,F))"
      ]
     },
     "execution_count": 31,
     "metadata": {},
     "output_type": "execute_result"
    }
   ],
   "source": [
    "genderRDD.take(5)"
   ]
  },
  {
   "cell_type": "code",
   "execution_count": 36,
   "metadata": {},
   "outputs": [
    {
     "data": {
      "text/plain": [
       "genderRDD = MapPartitionsRDD[71] at map at <console>:41\n"
      ]
     },
     "metadata": {},
     "output_type": "display_data"
    },
    {
     "data": {
      "text/plain": [
       "Array((499,(1,2)), (419,(6,7)), (1000010,(0,1)), (1000074,(0,1)), (394,(1,1)), (1000087,(0,1)), (426,(3,3)), (354,(10,11)), (1245,(1,1)), (1256,(0,1)), (459,(0,1)), (1340,(1,1)), (1290,(1,1)), (1311,(27,36)), (312,(1,1)), (293,(1,2)), (1362,(0,1)), (1298,(1,1)), (589,(1,1)), (1324,(0,1)), (1155,(1,1)), (314,(2,3)), (1000102,(1,1)), (745,(1,1)), (448,(3,3)), (480,(1,3)), (1344,(2,2)), (1276,(5,6)), (420,(2,3)), (1087,(1,2)), (482,(1,1)), (846,(1,1)), (347,(0,1)), (534,(1,1)), (1355,(3,4)), (1319,(1,1)), (1359,(7,8)), (956,(3,3)), (445,(0,1)), (1365,(0,1)), (382,(1,2)), (1376,(3,3)), (454,(2,2)), (885,(1,1)), (458,(1,1)), (443,(1,1)), (405,(1,2)), (1110..."
      ]
     },
     "execution_count": 36,
     "metadata": {},
     "output_type": "execute_result"
    }
   ],
   "source": [
    "// 3. Посчитать количество историй 2018-07-24, которые лайкнули преимущественно мужчины\n",
    "\n",
    "val genderRDD = customers\n",
    "    .map(s => (headerCustomer(s, \"customer_id\"), headerCustomer(s, \"gender_cd\")))\n",
    "\n",
    "stories\n",
    "    .filter(s => (headerStories(s, \"event\") == \"like\") && (headerStories(s, \"event_dttm\").slice(0,10) == \"2018-07-24\"))\n",
    "    .map(s => (headerStories(s, \"customer_id\"), headerStories(s, \"story_id\"))) // ~215\n",
    "    .join(genderRDD)\n",
    "    .map(s => (s._2._1, if (s._2._2 == \"M\") 1 else 0))\n",
    "    .aggregateByKey((0,0))(\n",
    "        (u, t) => (u._1 + t, u._2 + 1),\n",
    "        (u1, u2) => (u1._1 + u2._1, u1._2 + u2._2)\n",
    "    )\n",
    "    .filter(s => s._2._1 > s._2._2 * 0.5)\n",
    "    .collect()"
   ]
  },
  {
   "cell_type": "code",
   "execution_count": null,
   "metadata": {},
   "outputs": [],
   "source": [
    "join((K, V), (K, W)) => (K, (V,W))"
   ]
  },
  {
   "cell_type": "code",
   "execution_count": null,
   "metadata": {},
   "outputs": [],
   "source": [
    "// 4. Посчитать количество и средний возраст пользователей, посмотревших историю 645 "
   ]
  },
  {
   "cell_type": "code",
   "execution_count": null,
   "metadata": {},
   "outputs": [],
   "source": [
    "// 5. Посчитать количество утилизированных продуктов у каждого пользователя с помощью flatMap"
   ]
  },
  {
   "cell_type": "code",
   "execution_count": null,
   "metadata": {},
   "outputs": [],
   "source": [
    "// 6. Посчитать количество утилизированных продуктов у каждого пользователя с помощью groupByKey"
   ]
  },
  {
   "cell_type": "code",
   "execution_count": null,
   "metadata": {},
   "outputs": [],
   "source": []
  },
  {
   "cell_type": "code",
   "execution_count": null,
   "metadata": {},
   "outputs": [],
   "source": []
  },
  {
   "cell_type": "code",
   "execution_count": null,
   "metadata": {},
   "outputs": [],
   "source": []
  },
  {
   "cell_type": "markdown",
   "metadata": {},
   "source": [
    "## Dataframe API"
   ]
  },
  {
   "cell_type": "code",
   "execution_count": 29,
   "metadata": {},
   "outputs": [
    {
     "data": {
      "text/plain": [
       "customers = [customer_id: int, product_0: string ... 13 more fields]\n",
       "stories = [customer_id: int, story_id: int ... 2 more fields]\n"
      ]
     },
     "metadata": {},
     "output_type": "display_data"
    },
    {
     "data": {
      "text/plain": [
       "[customer_id: int, story_id: int ... 2 more fields]"
      ]
     },
     "execution_count": 29,
     "metadata": {},
     "output_type": "execute_result"
    }
   ],
   "source": [
    "val customers = spark.read\n",
    "    .option(\"header\", true)\n",
    "    .option(\"inferSchema\", true)\n",
    "    .csv(\"Downloads/data_like/customer_train.csv\")\n",
    "\n",
    "val stories = spark.read\n",
    "    .option(\"header\", true)\n",
    "    .option(\"inferSchema\", true)\n",
    "    .csv(\"Downloads/data_like/stories_reaction_train.csv\")"
   ]
  },
  {
   "cell_type": "code",
   "execution_count": 51,
   "metadata": {},
   "outputs": [
    {
     "name": "stdout",
     "output_type": "stream",
     "text": [
      "+-----------------+-----+\n",
      "|marital_status_cd|count|\n",
      "+-----------------+-----+\n",
      "|             null|18793|\n",
      "|              DLW|    1|\n",
      "|              WID|  297|\n",
      "|              UNM|11906|\n",
      "|              MAR|14199|\n",
      "|              CIV| 2240|\n",
      "|              DIV| 2564|\n",
      "+-----------------+-----+\n",
      "\n"
     ]
    }
   ],
   "source": [
    "// 1. Посчитать количество пользователей по каждому типу marital_status, с помощью reduceByKey\n",
    "\n",
    "customers\n",
    "    .groupBy(\"marital_status_cd\")\n",
    "    .agg(count(\"*\") as \"count\")\n",
    "    .show"
   ]
  },
  {
   "cell_type": "code",
   "execution_count": 52,
   "metadata": {},
   "outputs": [
    {
     "name": "stdout",
     "output_type": "stream",
     "text": [
      "+---------+-----+\n",
      "|product_2|count|\n",
      "+---------+-----+\n",
      "|     null|45609|\n",
      "|      UTL| 1895|\n",
      "|      CLS|  750|\n",
      "|      OPN| 1746|\n",
      "+---------+-----+\n",
      "\n"
     ]
    }
   ],
   "source": [
    "// 2. Посчитать долю пользователей, у которых утилизирован продукт 2\n",
    "customers\n",
    "    .groupBy(\"product_2\")\n",
    "    .agg(count(\"*\") as \"count\")\n",
    "    .show"
   ]
  },
  {
   "cell_type": "code",
   "execution_count": 58,
   "metadata": {},
   "outputs": [
    {
     "data": {
      "text/plain": [
       "Name: Unknown Error\n",
       "Message: <console>:37: error: type mismatch;\n",
       " found   : String(\"NULL\")\n",
       " required: org.apache.spark.sql.Column\n",
       "               coalesce($\"product_2\", \"NULL\") as \"product_2_cleaned\"\n",
       "                                      ^\n",
       "\n",
       "StackTrace: "
      ]
     },
     "execution_count": 58,
     "metadata": {},
     "output_type": "execute_result"
    }
   ],
   "source": [
    "customers\n",
    "    .select(\n",
    "        $\"product_2\",\n",
    "        coalesce($\"product_2\", \"NULL\") as \"product_2_cleaned\"\n",
    "    )\n",
    "    .show"
   ]
  },
  {
   "cell_type": "code",
   "execution_count": 64,
   "metadata": {},
   "outputs": [
    {
     "name": "stdout",
     "output_type": "stream",
     "text": [
      "+-----------------+-----+\n",
      "|product_2_cleaned|count|\n",
      "+-----------------+-----+\n",
      "|             NULL|45609|\n",
      "|             null|50000|\n",
      "|              UTL| 1895|\n",
      "|              OPN| 1746|\n",
      "|              CLS|  750|\n",
      "+-----------------+-----+\n",
      "\n"
     ]
    }
   ],
   "source": [
    "customers\n",
    "    .rollup(coalesce($\"product_2\", lit(\"NULL\")) as \"product_2_cleaned\")\n",
    "    .agg(count(\"*\") as \"count\")\n",
    "    .show"
   ]
  },
  {
   "cell_type": "code",
   "execution_count": 66,
   "metadata": {},
   "outputs": [
    {
     "name": "stdout",
     "output_type": "stream",
     "text": [
      "root\n",
      " |-- customer_id: integer (nullable = true)\n",
      " |-- story_id: integer (nullable = true)\n",
      " |-- event_dttm: timestamp (nullable = true)\n",
      " |-- event: string (nullable = true)\n",
      "\n"
     ]
    }
   ],
   "source": [
    "stories.printSchema"
   ]
  },
  {
   "cell_type": "code",
   "execution_count": 71,
   "metadata": {},
   "outputs": [
    {
     "name": "stdout",
     "output_type": "stream",
     "text": [
      "+--------+-----------+----------+\n",
      "|story_id|total_likes|mens_likes|\n",
      "+--------+-----------+----------+\n",
      "|     458|          1|         1|\n",
      "| 1000088|          1|         1|\n",
      "|    1344|          2|         2|\n",
      "|    1276|          6|         5|\n",
      "| 1000102|          1|         1|\n",
      "|    1290|          1|         1|\n",
      "|    1311|         36|        27|\n",
      "|    1145|          1|         1|\n",
      "| 1000109|          2|         2|\n",
      "|    1155|          1|         1|\n",
      "|     308|          2|         2|\n",
      "|     470|          1|         1|\n",
      "|     692|          1|         1|\n",
      "|    1245|          1|         1|\n",
      "|    1355|          4|         3|\n",
      "|     676|          1|         1|\n",
      "|     846|          1|         1|\n",
      "|     959|          1|         1|\n",
      "|     836|          1|         1|\n",
      "|     419|          7|         6|\n",
      "+--------+-----------+----------+\n",
      "only showing top 20 rows\n",
      "\n"
     ]
    },
    {
     "data": {
      "text/plain": [
       "genders = [customer_id: int, product_0: string ... 13 more fields]\n"
      ]
     },
     "metadata": {},
     "output_type": "display_data"
    },
    {
     "data": {
      "text/plain": [
       "[customer_id: int, product_0: string ... 13 more fields]"
      ]
     },
     "execution_count": 71,
     "metadata": {},
     "output_type": "execute_result"
    }
   ],
   "source": [
    "// 3. Посчитать количество историй 2018-07-24, которые лайкнули преимущественно мужчины\n",
    "\n",
    "val genders = customers\n",
    "    // .select(\"customer_id\", \"gender_cd\")\n",
    "\n",
    "stories\n",
    "    .filter($\"event\" === \"like\" && to_date($\"event_dttm\",\"yyyy-MM-dd\") === \"2018-07-24\")\n",
    "    .join(genders, Seq(\"customer_id\"), \"inner\")\n",
    "    .groupBy(\"story_id\")\n",
    "    .agg(\n",
    "        count(\"*\") as \"total_likes\",\n",
    "        sum(when($\"gender_cd\" === \"M\", lit(1)).otherwise(lit(0))) as \"mens_likes\"\n",
    "    )\n",
    "    .filter($\"mens_likes\" > $\"total_likes\" * 0.5)\n",
    "    .show"
   ]
  },
  {
   "cell_type": "code",
   "execution_count": null,
   "metadata": {},
   "outputs": [],
   "source": []
  },
  {
   "cell_type": "markdown",
   "metadata": {},
   "source": [
    "Задачи на DataFrame API:\n",
    "\n",
    "1. Вывести количество пользователей, которые не посмотрели ни одной истории\n",
    "2. Найти пользователя-мужчину с максимальным количеством просмотров\n",
    "3. Посчитать количество историй, которые пользователи смотрят с момента первого просмотра\n",
    "4. Rollup vs Cube: сделать пример аналитического куба\n",
    "5. Написать 2 задачу на spark sql"
   ]
  },
  {
   "cell_type": "code",
   "execution_count": 26,
   "metadata": {},
   "outputs": [
    {
     "data": {
      "text/plain": [
       "org.apache.spark.SparkContext@38166e42"
      ]
     },
     "execution_count": 26,
     "metadata": {},
     "output_type": "execute_result"
    }
   ],
   "source": [
    "sc"
   ]
  },
  {
   "cell_type": "code",
   "execution_count": 27,
   "metadata": {},
   "outputs": [
    {
     "data": {
      "text/plain": [
       "Some(http://192.168.1.65:4040)"
      ]
     },
     "execution_count": 27,
     "metadata": {},
     "output_type": "execute_result"
    }
   ],
   "source": [
    "sc.uiWebUrl"
   ]
  },
  {
   "cell_type": "code",
   "execution_count": 30,
   "metadata": {},
   "outputs": [
    {
     "name": "stdout",
     "output_type": "stream",
     "text": [
      "root\n",
      " |-- customer_id: integer (nullable = true)\n",
      " |-- story_id: integer (nullable = true)\n",
      " |-- event_dttm: timestamp (nullable = true)\n",
      " |-- event: string (nullable = true)\n",
      "\n",
      "root\n",
      " |-- customer_id: integer (nullable = true)\n",
      " |-- product_0: string (nullable = true)\n",
      " |-- product_1: string (nullable = true)\n",
      " |-- product_2: string (nullable = true)\n",
      " |-- product_3: string (nullable = true)\n",
      " |-- product_4: string (nullable = true)\n",
      " |-- product_5: string (nullable = true)\n",
      " |-- product_6: string (nullable = true)\n",
      " |-- gender_cd: string (nullable = true)\n",
      " |-- age: double (nullable = true)\n",
      " |-- marital_status_cd: string (nullable = true)\n",
      " |-- children_cnt: double (nullable = true)\n",
      " |-- first_session_dttm: timestamp (nullable = true)\n",
      " |-- job_position_cd: integer (nullable = true)\n",
      " |-- job_title: string (nullable = true)\n",
      "\n"
     ]
    }
   ],
   "source": [
    "stories.printSchema\n",
    "customers.printSchema"
   ]
  },
  {
   "cell_type": "code",
   "execution_count": 32,
   "metadata": {},
   "outputs": [
    {
     "data": {
      "text/plain": [
       "12177"
      ]
     },
     "execution_count": 32,
     "metadata": {},
     "output_type": "execute_result"
    }
   ],
   "source": [
    "// 1. Вывести количество пользователей, которые не посмотрели ни одной истории\n",
    "customers.join(stories.select(\"customer_id\"), Seq(\"customer_id\"), \"leftanti\").count"
   ]
  },
  {
   "cell_type": "code",
   "execution_count": null,
   "metadata": {},
   "outputs": [],
   "source": [
    "val customer_ids = broadcast(stories.select(\"customer_id\").repartition(200))"
   ]
  },
  {
   "cell_type": "code",
   "execution_count": 33,
   "metadata": {},
   "outputs": [
    {
     "data": {
      "text/plain": [
       "12177"
      ]
     },
     "execution_count": 33,
     "metadata": {},
     "output_type": "execute_result"
    }
   ],
   "source": [
    "customers.repartition(200).join(customer_ids, Seq(\"customer_id\"), \"leftanti\").count"
   ]
  },
  {
   "cell_type": "code",
   "execution_count": 34,
   "metadata": {},
   "outputs": [
    {
     "data": {
      "text/plain": [
       "Some(http://192.168.1.65:4040)"
      ]
     },
     "execution_count": 34,
     "metadata": {},
     "output_type": "execute_result"
    }
   ],
   "source": [
    "sc.uiWebUrl"
   ]
  },
  {
   "cell_type": "code",
   "execution_count": null,
   "metadata": {},
   "outputs": [],
   "source": [
    "broadcast"
   ]
  },
  {
   "cell_type": "code",
   "execution_count": null,
   "metadata": {},
   "outputs": [],
   "source": []
  },
  {
   "cell_type": "code",
   "execution_count": 35,
   "metadata": {},
   "outputs": [
    {
     "name": "stdout",
     "output_type": "stream",
     "text": [
      "root\n",
      " |-- customer_id: integer (nullable = true)\n",
      " |-- story_id: integer (nullable = true)\n",
      " |-- event_dttm: timestamp (nullable = true)\n",
      " |-- event: string (nullable = true)\n",
      "\n",
      "root\n",
      " |-- customer_id: integer (nullable = true)\n",
      " |-- product_0: string (nullable = true)\n",
      " |-- product_1: string (nullable = true)\n",
      " |-- product_2: string (nullable = true)\n",
      " |-- product_3: string (nullable = true)\n",
      " |-- product_4: string (nullable = true)\n",
      " |-- product_5: string (nullable = true)\n",
      " |-- product_6: string (nullable = true)\n",
      " |-- gender_cd: string (nullable = true)\n",
      " |-- age: double (nullable = true)\n",
      " |-- marital_status_cd: string (nullable = true)\n",
      " |-- children_cnt: double (nullable = true)\n",
      " |-- first_session_dttm: timestamp (nullable = true)\n",
      " |-- job_position_cd: integer (nullable = true)\n",
      " |-- job_title: string (nullable = true)\n",
      "\n"
     ]
    }
   ],
   "source": [
    "stories.printSchema\n",
    "customers.printSchema"
   ]
  },
  {
   "cell_type": "code",
   "execution_count": 45,
   "metadata": {},
   "outputs": [
    {
     "data": {
      "text/plain": [
       "males = [customer_id: int]\n"
      ]
     },
     "metadata": {},
     "output_type": "display_data"
    },
    {
     "data": {
      "text/plain": [
       "Array([920088,430])"
      ]
     },
     "execution_count": 45,
     "metadata": {},
     "output_type": "execute_result"
    }
   ],
   "source": [
    "// 2. Найти пользователя-мужчину с максимальным количеством просмотров\n",
    "val males = customers.filter($\"gender_cd\" === \"M\").select(\"customer_id\")\n",
    "\n",
    "stories\n",
    "    .join(males, Seq(\"customer_id\"), \"inner\")\n",
    "    .groupBy(\"customer_id\")\n",
    "    .agg(count(\"*\") as \"num_previews\")\n",
    "    .orderBy(-$\"num_previews\")\n",
    "    .take(1)"
   ]
  },
  {
   "cell_type": "code",
   "execution_count": 42,
   "metadata": {},
   "outputs": [
    {
     "name": "stdout",
     "output_type": "stream",
     "text": [
      "+-----------+\n",
      "|customer_id|\n",
      "+-----------+\n",
      "|     920088|\n",
      "+-----------+\n",
      "\n"
     ]
    }
   ],
   "source": [
    "stories\n",
    "    .join(males, Seq(\"customer_id\"), \"inner\")\n",
    "    .groupBy(\"customer_id\")\n",
    "    .agg(count(\"*\") as \"num_previews\")\n",
    "    .agg(max(struct($\"num_previews\", $\"customer_id\")) as \"argmax_struct\")\n",
    "    .select(\"argmax_struct.customer_id\")\n",
    "    .show(1)"
   ]
  },
  {
   "cell_type": "code",
   "execution_count": null,
   "metadata": {},
   "outputs": [],
   "source": []
  },
  {
   "cell_type": "markdown",
   "metadata": {},
   "source": [
    "https://sparkbyexamples.com/spark/spark-convert-string-to-timestamp-format/ "
   ]
  },
  {
   "cell_type": "code",
   "execution_count": 24,
   "metadata": {},
   "outputs": [
    {
     "name": "stdout",
     "output_type": "stream",
     "text": [
      "root\n",
      " |-- input_timestamp: string (nullable = true)\n",
      " |-- datetype_timestamp: timestamp (nullable = true)\n",
      "\n",
      "+-----------------------+-----------------------+\n",
      "|input_timestamp        |datetype_timestamp     |\n",
      "+-----------------------+-----------------------+\n",
      "|2019-07-01 12:01:19.000|2019-07-01 12:01:19    |\n",
      "|2019-06-24 12:01:19.000|2019-06-24 12:01:19    |\n",
      "|2019-11-16 16:44:55.406|2019-11-16 16:44:55.406|\n",
      "|2019-11-16 16:50:59.406|2019-11-16 16:50:59.406|\n",
      "+-----------------------+-----------------------+\n",
      "\n"
     ]
    },
    {
     "data": {
      "text/plain": [
       "df = [input_timestamp: string, datetype_timestamp: timestamp]\n"
      ]
     },
     "metadata": {},
     "output_type": "display_data"
    },
    {
     "data": {
      "text/plain": [
       "[input_timestamp: string, datetype_timestamp: timestamp]"
      ]
     },
     "execution_count": 24,
     "metadata": {},
     "output_type": "execute_result"
    }
   ],
   "source": [
    "import spark.sqlContext.implicits._\n",
    "\n",
    "//String to timestamps\n",
    "val df = Seq(\n",
    "    (\"2019-07-01 12:01:19.000\"),\n",
    "    (\"2019-06-24 12:01:19.000\"),\n",
    "    (\"2019-11-16 16:44:55.406\"),\n",
    "    (\"2019-11-16 16:50:59.406\")\n",
    "  )\n",
    "  .toDF(\"input_timestamp\")\n",
    "  .withColumn(\"datetype_timestamp\", to_timestamp(col(\"input_timestamp\")))\n",
    "\n",
    "df.printSchema()\n",
    "\n",
    "df.show(false)"
   ]
  },
  {
   "cell_type": "code",
   "execution_count": null,
   "metadata": {},
   "outputs": [],
   "source": []
  },
  {
   "cell_type": "code",
   "execution_count": null,
   "metadata": {},
   "outputs": [],
   "source": []
  },
  {
   "cell_type": "code",
   "execution_count": 46,
   "metadata": {},
   "outputs": [
    {
     "name": "stdout",
     "output_type": "stream",
     "text": [
      "root\n",
      " |-- customer_id: integer (nullable = true)\n",
      " |-- story_id: integer (nullable = true)\n",
      " |-- event_dttm: timestamp (nullable = true)\n",
      " |-- event: string (nullable = true)\n",
      "\n",
      "root\n",
      " |-- customer_id: integer (nullable = true)\n",
      " |-- product_0: string (nullable = true)\n",
      " |-- product_1: string (nullable = true)\n",
      " |-- product_2: string (nullable = true)\n",
      " |-- product_3: string (nullable = true)\n",
      " |-- product_4: string (nullable = true)\n",
      " |-- product_5: string (nullable = true)\n",
      " |-- product_6: string (nullable = true)\n",
      " |-- gender_cd: string (nullable = true)\n",
      " |-- age: double (nullable = true)\n",
      " |-- marital_status_cd: string (nullable = true)\n",
      " |-- children_cnt: double (nullable = true)\n",
      " |-- first_session_dttm: timestamp (nullable = true)\n",
      " |-- job_position_cd: integer (nullable = true)\n",
      " |-- job_title: string (nullable = true)\n",
      "\n"
     ]
    }
   ],
   "source": [
    "stories.printSchema\n",
    "customers.printSchema"
   ]
  },
  {
   "cell_type": "code",
   "execution_count": 54,
   "metadata": {},
   "outputs": [
    {
     "data": {
      "text/plain": [
       "storiesWithTime2 = [customer_id: int, event_dttm: timestamp]\n",
       "joined2 = [customer_id: int, first_session_dttm: timestamp ... 1 more field]\n"
      ]
     },
     "metadata": {},
     "output_type": "display_data"
    },
    {
     "data": {
      "text/plain": [
       "1847"
      ]
     },
     "execution_count": 54,
     "metadata": {},
     "output_type": "execute_result"
    }
   ],
   "source": [
    "// 3. Посчитать количество просмотров историй, которые пользователи смотрят за первые 3 дня пользования начиная с первой сессии\n",
    "val storiesWithTime2 = stories\n",
    "    .select($\"customer_id\", to_timestamp($\"event_dttm\") as \"event_dttm\")\n",
    "\n",
    "val joined2 = customers\n",
    "    .select($\"customer_id\", to_timestamp($\"first_session_dttm\") as \"first_session_dttm\")\n",
    "    .join(storiesWithTime2, Seq(\"customer_id\"))\n",
    "    .cache\n",
    "\n",
    "joined2\n",
    "    .withColumn(\"datediff_days\", datediff($\"event_dttm\", $\"first_session_dttm\"))\n",
    "    .filter($\"datediff_days\" <= 3)\n",
    "    .count"
   ]
  },
  {
   "cell_type": "code",
   "execution_count": 55,
   "metadata": {},
   "outputs": [
    {
     "data": {
      "text/plain": [
       "3204"
      ]
     },
     "execution_count": 55,
     "metadata": {},
     "output_type": "execute_result"
    }
   ],
   "source": [
    "joined2\n",
    "    .withColumn(\"datediff_days\", datediff($\"event_dttm\", $\"first_session_dttm\"))\n",
    "    .filter($\"datediff_days\" <= 6)\n",
    "    .count"
   ]
  },
  {
   "cell_type": "code",
   "execution_count": null,
   "metadata": {},
   "outputs": [],
   "source": []
  },
  {
   "cell_type": "markdown",
   "metadata": {},
   "source": [
    "### Window functions"
   ]
  },
  {
   "cell_type": "code",
   "execution_count": 59,
   "metadata": {},
   "outputs": [
    {
     "name": "stdout",
     "output_type": "stream",
     "text": [
      "+---------+-----+------+\n",
      "|  depName|empNo|salary|\n",
      "+---------+-----+------+\n",
      "|    sales|    1|  5000|\n",
      "|personnel|    2|  3900|\n",
      "|    sales|    3|  4800|\n",
      "|    sales|    4|  4800|\n",
      "|personnel|    5|  3500|\n",
      "|  develop|    7|  4200|\n",
      "|  develop|    8|  6000|\n",
      "|  develop|    9|  4500|\n",
      "|  develop|   10|  5200|\n",
      "|  develop|   11|  5200|\n",
      "+---------+-----+------+\n",
      "\n"
     ]
    },
    {
     "data": {
      "text/plain": [
       "defined class Salary\n",
       "empsalary = [depName: string, empNo: bigint ... 1 more field]\n"
      ]
     },
     "metadata": {},
     "output_type": "display_data"
    },
    {
     "data": {
      "text/plain": [
       "[depName: string, empNo: bigint ... 1 more field]"
      ]
     },
     "execution_count": 59,
     "metadata": {},
     "output_type": "execute_result"
    }
   ],
   "source": [
    "import spark.implicits._\n",
    "import org.apache.spark.sql._\n",
    "import org.apache.spark.sql.expressions._\n",
    "import org.apache.spark.sql.functions._\n",
    "\n",
    "case class Salary(depName: String, empNo: Long, salary: Long)\n",
    "val empsalary = Seq(\n",
    "  Salary(\"sales\", 1, 5000),\n",
    "  Salary(\"personnel\", 2, 3900),\n",
    "  Salary(\"sales\", 3, 4800),\n",
    "  Salary(\"sales\", 4, 4800),\n",
    "  Salary(\"personnel\", 5, 3500),\n",
    "  Salary(\"develop\", 7, 4200),\n",
    "  Salary(\"develop\", 8, 6000),\n",
    "  Salary(\"develop\", 9, 4500),\n",
    "  Salary(\"develop\", 10, 5200),\n",
    "  Salary(\"develop\", 11, 5200)).toDF\n",
    "\n",
    "empsalary.show"
   ]
  },
  {
   "cell_type": "code",
   "execution_count": 65,
   "metadata": {},
   "outputs": [
    {
     "name": "stdout",
     "output_type": "stream",
     "text": [
      "+---------+-----+------+-----------------+------------+\n",
      "|  depName|empNo|salary|              avg|sum_by_empNo|\n",
      "+---------+-----+------+-----------------+------------+\n",
      "|  develop|    7|  4200|           5020.0|        4200|\n",
      "|  develop|    8|  6000|           5020.0|       10200|\n",
      "|  develop|    9|  4500|           5020.0|       14700|\n",
      "|  develop|   10|  5200|           5020.0|       19900|\n",
      "|  develop|   11|  5200|           5020.0|       25100|\n",
      "|    sales|    1|  5000|4866.666666666667|        5000|\n",
      "|    sales|    3|  4800|4866.666666666667|        9800|\n",
      "|    sales|    4|  4800|4866.666666666667|       14600|\n",
      "|personnel|    2|  3900|           3700.0|        3900|\n",
      "|personnel|    5|  3500|           3700.0|        7400|\n",
      "+---------+-----+------+-----------------+------------+\n",
      "\n"
     ]
    }
   ],
   "source": [
    "import org.apache.spark.sql.expressions.Window\n",
    "\n",
    "empsalary\n",
    "    .withColumn(\"avg\", avg($\"salary\").over(Window.partitionBy($\"depName\")))\n",
    "    .withColumn(\"sum_by_empNo\", sum($\"salary\").over(Window.partitionBy($\"depName\").orderBy(\"empNo\")))\n",
    "    .show"
   ]
  },
  {
   "cell_type": "code",
   "execution_count": 70,
   "metadata": {},
   "outputs": [
    {
     "name": "stdout",
     "output_type": "stream",
     "text": [
      "+-----------+--------+-------------------+-----+\n",
      "|customer_id|story_id|         event_dttm|event|\n",
      "+-----------+--------+-------------------+-----+\n",
      "|         15|     138|2018-07-24 15:33:22| view|\n",
      "|         15|     202|2018-06-04 08:08:08| skip|\n",
      "|         15|     222|2018-06-17 13:44:45| skip|\n",
      "|         15|     379|2018-05-23 05:41:43| skip|\n",
      "|         15|     544|2018-07-25 02:16:29| view|\n",
      "+-----------+--------+-------------------+-----+\n",
      "only showing top 5 rows\n",
      "\n"
     ]
    }
   ],
   "source": [
    "stories.show(5)"
   ]
  },
  {
   "cell_type": "code",
   "execution_count": 76,
   "metadata": {},
   "outputs": [
    {
     "data": {
      "text/plain": [
       "storiesWithTime = 151464\n"
      ]
     },
     "metadata": {},
     "output_type": "display_data"
    },
    {
     "data": {
      "text/plain": [
       "151464"
      ]
     },
     "execution_count": 76,
     "metadata": {},
     "output_type": "execute_result"
    }
   ],
   "source": [
    "// 3a. Посчитать количество историй, которые пользователи смотрят за первые 3 дня пользования начиная с первого просмотра историй\n",
    "\n",
    "val storiesWithTime = stories\n",
    "    .select($\"customer_id\", to_timestamp($\"event_dttm\") as \"event_dttm\")\n",
    "    .withColumn(\"first_story_dttm\", min(\"event_dttm\").over(Window.partitionBy(\"customer_id\")))\n",
    "\n",
    "    .withColumn(\"datediff_days\", datediff($\"event_dttm\", $\"first_story_dttm\"))\n",
    "    .filter($\"datediff_days\" <= 3)\n",
    "    .count"
   ]
  },
  {
   "cell_type": "code",
   "execution_count": null,
   "metadata": {},
   "outputs": [],
   "source": []
  },
  {
   "cell_type": "markdown",
   "metadata": {},
   "source": [
    "### Cache\n",
    "\n",
    "df.cache – создаёт кэш для всех вычислений, предшествующих этому"
   ]
  },
  {
   "cell_type": "code",
   "execution_count": null,
   "metadata": {},
   "outputs": [],
   "source": [
    "// 4. Rollup vs Cube: пример аналитического куба"
   ]
  },
  {
   "cell_type": "code",
   "execution_count": null,
   "metadata": {},
   "outputs": [],
   "source": [
    "// 5. Написать 2 задачу на spark sql"
   ]
  },
  {
   "cell_type": "code",
   "execution_count": null,
   "metadata": {},
   "outputs": [],
   "source": [
    "// 2. Найти пользователя-мужчину с максимальным количеством просмотров\n",
    "val males = customers.filter($\"gender_cd\" === \"M\").select(\"customer_id\")\n",
    "\n",
    "stories\n",
    "    .join(males, Seq(\"customer_id\"), \"inner\")\n",
    "    .groupBy(\"customer_id\")\n",
    "    .agg(count(\"*\") as \"num_previews\")\n",
    "    .orderBy(-$\"num_previews\")\n",
    "    .take(1)"
   ]
  },
  {
   "cell_type": "code",
   "execution_count": 78,
   "metadata": {},
   "outputs": [],
   "source": [
    "stories.createOrReplaceTempView(\"stories\")\n",
    "customers.createOrReplaceTempView(\"customers\")"
   ]
  },
  {
   "cell_type": "code",
   "execution_count": 80,
   "metadata": {},
   "outputs": [
    {
     "name": "stdout",
     "output_type": "stream",
     "text": [
      "+-----------+--------+-------------------+-----+\n",
      "|customer_id|story_id|         event_dttm|event|\n",
      "+-----------+--------+-------------------+-----+\n",
      "|         15|     138|2018-07-24 15:33:22| view|\n",
      "|         15|     202|2018-06-04 08:08:08| skip|\n",
      "|         15|     222|2018-06-17 13:44:45| skip|\n",
      "|         15|     379|2018-05-23 05:41:43| skip|\n",
      "|         15|     544|2018-07-25 02:16:29| view|\n",
      "|         15|     610|2018-07-29 01:49:35| view|\n",
      "|         15|     645|2018-07-24 15:33:22| view|\n",
      "|         15|     687|2018-05-23 05:41:43| view|\n",
      "|         15|     770|2018-06-04 08:08:08| skip|\n",
      "|         15|     781|2018-06-03 09:24:45| view|\n",
      "+-----------+--------+-------------------+-----+\n",
      "\n"
     ]
    }
   ],
   "source": [
    "spark.sql(\"\"\"\n",
    "    select * \n",
    "    from stories join customers\n",
    "    where customers.gender_cd = \"M\"\n",
    "    limit 10\n",
    "\"\"\").show"
   ]
  },
  {
   "cell_type": "code",
   "execution_count": null,
   "metadata": {},
   "outputs": [],
   "source": []
  }
 ],
 "metadata": {
  "kernelspec": {
   "display_name": "Apache Toree - Scala",
   "language": "scala",
   "name": "apache_toree_scala"
  },
  "language_info": {
   "codemirror_mode": "text/x-scala",
   "file_extension": ".scala",
   "mimetype": "text/x-scala",
   "name": "scala",
   "pygments_lexer": "scala",
   "version": "2.11.12"
  }
 },
 "nbformat": 4,
 "nbformat_minor": 2
}
